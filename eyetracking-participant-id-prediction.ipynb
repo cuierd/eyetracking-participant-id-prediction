{
 "cells": [
  {
   "cell_type": "markdown",
   "metadata": {},
   "source": [
    "<h1><center>\n",
    "    Eyetracking: Experiment Design and Machine Learning Methods<br/>\n",
    "  \n",
    "    \n",
    "    Assignment 7\n",
    "</center></h1>"
   ]
  },
  {
   "cell_type": "markdown",
   "metadata": {},
   "source": [
    "Last week, we implemented a neural network with initialization from scratch. This week, we will work with Tensorflow to use a CNN."
   ]
  },
  {
   "cell_type": "code",
   "execution_count": 481,
   "metadata": {},
   "outputs": [],
   "source": [
    "import pandas as pd\n",
    "import tensorflow as tf\n",
    "from sklearn.model_selection import train_test_split \n",
    "from sklearn.preprocessing import StandardScaler\n",
    "import matplotlib.pyplot as plt\n",
    "import matplotlib.colors as colors\n",
    "import seaborn as sns\n",
    "import numpy as np"
   ]
  },
  {
   "cell_type": "markdown",
   "metadata": {},
   "source": [
    "Please check that you're working with Tensorflow 2.x. You're also free to use pytorch or any other DL framework."
   ]
  },
  {
   "cell_type": "markdown",
   "metadata": {},
   "source": [
    "The assignment is structure in the following way: Load the data, explore the data, preprocess the data, define your network, train your network, evaluate your network.\n",
    "This is basically a dress rehearsal for the second project. "
   ]
  },
  {
   "cell_type": "markdown",
   "metadata": {},
   "source": [
    "# Task 1"
   ]
  },
  {
   "cell_type": "markdown",
   "metadata": {},
   "source": [
    "Load GazeBase dataset: https://figshare.com/articles/dataset/GazeBase_Data_Repository/12912257\n",
    "\n",
    "You already know this dataset from the assignment 'getting to know the data', but to recap: there are up to 322 subjects, several different tasks and 9 rounds with two sessions for each task."
   ]
  },
  {
   "cell_type": "markdown",
   "metadata": {},
   "source": [
    "Decide for one subtask and state a problem-setting you want to investigate using a CNN. As in the exercise two weeks ago the results do not need to be above random guessing, it is only about the execution. NOTE: the dataset (subtask) you're using in this assignment is then excluded from the final project. But if you want to use another task of GazeBase and a CNN the pipeline should be easily adjustable."
   ]
  },
  {
   "cell_type": "markdown",
   "metadata": {},
   "source": [
    "## Load the data"
   ]
  },
  {
   "cell_type": "code",
   "execution_count": 303,
   "metadata": {},
   "outputs": [],
   "source": [
    "import os\n",
    "import glob\n",
    "from zipfile import ZipFile\n",
    "from pathlib import Path\n",
    "import pandas as pd"
   ]
  },
  {
   "cell_type": "code",
   "execution_count": 304,
   "metadata": {},
   "outputs": [],
   "source": [
    "target_participant = '016.zip', '043.zip', '063.zip', '128.zip', '152.zip', '180.zip', '192.zip', '196.zip', '207.zip', '215.zip', '216.zip', '259.zip', '288.zip', '314.zip'\n",
    "\n",
    "target_task = 'BLG.csv'\n"
   ]
  },
  {
   "cell_type": "code",
   "execution_count": 305,
   "metadata": {},
   "outputs": [],
   "source": [
    "file_name = \"GazeBase_v2_0.zip\""
   ]
  },
  {
   "cell_type": "code",
   "execution_count": 306,
   "metadata": {},
   "outputs": [],
   "source": [
    "with ZipFile(file_name, 'r') as zip:\n",
    "    zipname = zip.namelist()\n",
    "    for elem in zipname:\n",
    "        if elem.endswith(target_participant):\n",
    "            with ZipFile(f'GazeBase_v2_0/{elem}', 'r') as zip:\n",
    "                csvname = zip.namelist()\n",
    "                for file in csvname:\n",
    "                    if file.endswith(target_task):\n",
    "                        zip.extract(file, path = './GazeBase_ex07')           "
   ]
  },
  {
   "cell_type": "code",
   "execution_count": 307,
   "metadata": {},
   "outputs": [],
   "source": [
    "path_1 = \"./GazeBase_ex07/S1/S1_Balura_Game\"\n",
    "path_2 = \"./GazeBase_ex07/S2/S2_Balura_Game\"\n",
    "files = glob.glob(os.path.join(path_1, '*.csv'))\n",
    "files.extend(glob.glob(os.path.join(path_2, '*.csv')))"
   ]
  },
  {
   "cell_type": "code",
   "execution_count": 308,
   "metadata": {},
   "outputs": [],
   "source": [
    "df_list =[]\n",
    "stride = 1000\n",
    "for file in files:\n",
    "    f_name = file.split('/')[-1]\n",
    "    df = pd.read_csv(file, encoding='utf-8', sep=',')\n",
    "    df = df[['n', 'x', 'y']]\n",
    "    df.insert(0, 'ID', [int(f_name.split('_')[1][1:]) for n in range(len(df))])\n",
    "    df.insert(1, 'round', [int(f_name.split('_')[1][0]) for n in range(len(df))])\n",
    "    df.insert(2, 'session', [f_name.split('_')[2] for n in range(len(df))])\n",
    "    df = df.dropna()\n",
    "    df = df.iloc[:(len(df)//stride)*stride]\n",
    "    df.insert(1, 'stride', [(i//stride+1) for i in range(len(df))])\n",
    "    \n",
    "    df_list.append(df)\n",
    "    \n",
    "gz_df = pd.concat(df_list, ignore_index=True)"
   ]
  },
  {
   "cell_type": "code",
   "execution_count": 309,
   "metadata": {},
   "outputs": [],
   "source": [
    "gz_df = gz_df.sort_values(by=['ID','round', 'session'], ignore_index=True)"
   ]
  },
  {
   "cell_type": "code",
   "execution_count": 310,
   "metadata": {},
   "outputs": [
    {
     "data": {
      "text/html": [
       "<div>\n",
       "<style scoped>\n",
       "    .dataframe tbody tr th:only-of-type {\n",
       "        vertical-align: middle;\n",
       "    }\n",
       "\n",
       "    .dataframe tbody tr th {\n",
       "        vertical-align: top;\n",
       "    }\n",
       "\n",
       "    .dataframe thead th {\n",
       "        text-align: right;\n",
       "    }\n",
       "</style>\n",
       "<table border=\"1\" class=\"dataframe\">\n",
       "  <thead>\n",
       "    <tr style=\"text-align: right;\">\n",
       "      <th></th>\n",
       "      <th>ID</th>\n",
       "      <th>stride</th>\n",
       "      <th>round</th>\n",
       "      <th>session</th>\n",
       "      <th>n</th>\n",
       "      <th>x</th>\n",
       "      <th>y</th>\n",
       "    </tr>\n",
       "  </thead>\n",
       "  <tbody>\n",
       "    <tr>\n",
       "      <th>0</th>\n",
       "      <td>16</td>\n",
       "      <td>1</td>\n",
       "      <td>1</td>\n",
       "      <td>S1</td>\n",
       "      <td>0</td>\n",
       "      <td>-8.878117</td>\n",
       "      <td>-6.593976</td>\n",
       "    </tr>\n",
       "    <tr>\n",
       "      <th>1</th>\n",
       "      <td>16</td>\n",
       "      <td>1</td>\n",
       "      <td>1</td>\n",
       "      <td>S1</td>\n",
       "      <td>1</td>\n",
       "      <td>-8.880986</td>\n",
       "      <td>-6.588160</td>\n",
       "    </tr>\n",
       "    <tr>\n",
       "      <th>2</th>\n",
       "      <td>16</td>\n",
       "      <td>1</td>\n",
       "      <td>1</td>\n",
       "      <td>S1</td>\n",
       "      <td>2</td>\n",
       "      <td>-8.880986</td>\n",
       "      <td>-6.582345</td>\n",
       "    </tr>\n",
       "    <tr>\n",
       "      <th>3</th>\n",
       "      <td>16</td>\n",
       "      <td>1</td>\n",
       "      <td>1</td>\n",
       "      <td>S1</td>\n",
       "      <td>3</td>\n",
       "      <td>-8.878117</td>\n",
       "      <td>-6.573621</td>\n",
       "    </tr>\n",
       "    <tr>\n",
       "      <th>4</th>\n",
       "      <td>16</td>\n",
       "      <td>1</td>\n",
       "      <td>1</td>\n",
       "      <td>S1</td>\n",
       "      <td>4</td>\n",
       "      <td>-8.878117</td>\n",
       "      <td>-6.570713</td>\n",
       "    </tr>\n",
       "    <tr>\n",
       "      <th>...</th>\n",
       "      <td>...</td>\n",
       "      <td>...</td>\n",
       "      <td>...</td>\n",
       "      <td>...</td>\n",
       "      <td>...</td>\n",
       "      <td>...</td>\n",
       "      <td>...</td>\n",
       "    </tr>\n",
       "    <tr>\n",
       "      <th>7681995</th>\n",
       "      <td>314</td>\n",
       "      <td>19</td>\n",
       "      <td>9</td>\n",
       "      <td>S2</td>\n",
       "      <td>20645</td>\n",
       "      <td>14.297587</td>\n",
       "      <td>-15.160996</td>\n",
       "    </tr>\n",
       "    <tr>\n",
       "      <th>7681996</th>\n",
       "      <td>314</td>\n",
       "      <td>19</td>\n",
       "      <td>9</td>\n",
       "      <td>S2</td>\n",
       "      <td>20646</td>\n",
       "      <td>14.289307</td>\n",
       "      <td>-15.158251</td>\n",
       "    </tr>\n",
       "    <tr>\n",
       "      <th>7681997</th>\n",
       "      <td>314</td>\n",
       "      <td>19</td>\n",
       "      <td>9</td>\n",
       "      <td>S2</td>\n",
       "      <td>20647</td>\n",
       "      <td>14.289307</td>\n",
       "      <td>-15.158251</td>\n",
       "    </tr>\n",
       "    <tr>\n",
       "      <th>7681998</th>\n",
       "      <td>314</td>\n",
       "      <td>19</td>\n",
       "      <td>9</td>\n",
       "      <td>S2</td>\n",
       "      <td>20648</td>\n",
       "      <td>14.286546</td>\n",
       "      <td>-15.160996</td>\n",
       "    </tr>\n",
       "    <tr>\n",
       "      <th>7681999</th>\n",
       "      <td>314</td>\n",
       "      <td>19</td>\n",
       "      <td>9</td>\n",
       "      <td>S2</td>\n",
       "      <td>20649</td>\n",
       "      <td>14.286546</td>\n",
       "      <td>-15.139033</td>\n",
       "    </tr>\n",
       "  </tbody>\n",
       "</table>\n",
       "<p>7682000 rows × 7 columns</p>\n",
       "</div>"
      ],
      "text/plain": [
       "          ID  stride  round session      n          x          y\n",
       "0         16       1      1      S1      0  -8.878117  -6.593976\n",
       "1         16       1      1      S1      1  -8.880986  -6.588160\n",
       "2         16       1      1      S1      2  -8.880986  -6.582345\n",
       "3         16       1      1      S1      3  -8.878117  -6.573621\n",
       "4         16       1      1      S1      4  -8.878117  -6.570713\n",
       "...      ...     ...    ...     ...    ...        ...        ...\n",
       "7681995  314      19      9      S2  20645  14.297587 -15.160996\n",
       "7681996  314      19      9      S2  20646  14.289307 -15.158251\n",
       "7681997  314      19      9      S2  20647  14.289307 -15.158251\n",
       "7681998  314      19      9      S2  20648  14.286546 -15.160996\n",
       "7681999  314      19      9      S2  20649  14.286546 -15.139033\n",
       "\n",
       "[7682000 rows x 7 columns]"
      ]
     },
     "execution_count": 310,
     "metadata": {},
     "output_type": "execute_result"
    }
   ],
   "source": [
    "gz_df"
   ]
  },
  {
   "cell_type": "code",
   "execution_count": 212,
   "metadata": {},
   "outputs": [],
   "source": [
    "## to try 'pathlib.Path'out.\n",
    "\n",
    "# data_list = []\n",
    "# for i in [1,2]:\n",
    "#     paths = Path(f'./GazeBase_ex07/S{i}/S{i}_Balura_Game').glob('*.csv')\n",
    "#     for path in paths:\n",
    "#         single_data = pd.read_csv(path, encoding='utf-8', sep=',')\n",
    "#         single_data = single_data[['n', 'x', 'y']]\n",
    "#         single_data.insert(0, 'ID', [path.stem.split('_')[1][1:] for n in range(len(single_data))])\n",
    "#         data_list.append(single_data)\n",
    "#     data = pd.concat(data_list, ignore_index=True)"
   ]
  },
  {
   "cell_type": "code",
   "execution_count": 213,
   "metadata": {},
   "outputs": [],
   "source": [
    "# data"
   ]
  },
  {
   "cell_type": "markdown",
   "metadata": {},
   "source": [
    "# Task 2"
   ]
  },
  {
   "cell_type": "markdown",
   "metadata": {
    "tags": []
   },
   "source": [
    "State your problem setting below. Describe at least which architecture you are using, what its goal is, the format of the input data and labels and from where you got the data. For an example problem setting see e.g. [Jäger et al](https://arxiv.org/pdf/1906.11889.pdf)."
   ]
  },
  {
   "cell_type": "markdown",
   "metadata": {},
   "source": [
    "### problem setting"
   ]
  },
  {
   "cell_type": "raw",
   "metadata": {},
   "source": [
    "This is a multi-class classification setting to predict the identification(ID) of a user from his/her eye-tracking data.\n",
    "\n",
    "I chose 14 participants from the whole data who has participated in all the 9 rounds. So I have more data to train and test.\n",
    "\n",
    "There is no noise in this setting just to make our life easier. All the users the model will encounter in training and testing come from the same population. \n",
    "\n",
    "So the model will fisrt see some eye-tracking raw data from all the 14 users. I used the data from gaze-driven gaming task. \n",
    "\n",
    "Part of the data will be used to train the model to recognize the users. \n",
    "\n",
    "Another part will be used to test how accuracy could the model recognize a user. Note: The model has never seen this part of data before.\n",
    "\n",
    "So the model need to predict a number between 0-13, with one number represents one user.\n"
   ]
  },
  {
   "cell_type": "markdown",
   "metadata": {},
   "source": [
    "### Architecture"
   ]
  },
  {
   "cell_type": "raw",
   "metadata": {},
   "source": [
    "1. The raw data of eye-gaze sequence are used.\n",
    "2. The data(eye movement pattern) during 1s (every 1000 lines in the csv file) was extracted.\n",
    "3. We feed the datapoints(each point has 1000 X and 1000 Y values) in the NNs. There are 3 consecutive CNNs, followed by a pool layer. And in the end, there is a normal NNs layer with a softmax function.\n",
    "4. For more detailed parameters, please check TASK6.\n",
    "5. I kept tuning the Acchitecture to get a better results. There is no clear reasons for me why I build it like this. I followed some online tutorials and the given paper and did some adjustments.\n",
    "\n",
    "## I am writting in the train, no wifi to check some English grammars or words. So sorry for causing confusions when you read it."
   ]
  },
  {
   "cell_type": "markdown",
   "metadata": {},
   "source": [
    "# Task 3"
   ]
  },
  {
   "cell_type": "markdown",
   "metadata": {},
   "source": [
    "Do basic data exploration (e.g. checking for nans, visualization, units and range of the data,...)\n",
    "\n",
    "It would make sense to first extract the data from the files and store it in a suitable format for further processing, e.g. in a feature matrix and a label vector"
   ]
  },
  {
   "cell_type": "code",
   "execution_count": 265,
   "metadata": {},
   "outputs": [
    {
     "name": "stdout",
     "output_type": "stream",
     "text": [
      "<class 'pandas.core.frame.DataFrame'>\n",
      "RangeIndex: 7682000 entries, 0 to 7681999\n",
      "Data columns (total 7 columns):\n",
      " #   Column   Dtype  \n",
      "---  ------   -----  \n",
      " 0   ID       int64  \n",
      " 1   stride   int64  \n",
      " 2   round    int64  \n",
      " 3   session  object \n",
      " 4   n        int64  \n",
      " 5   x        float64\n",
      " 6   y        float64\n",
      "dtypes: float64(2), int64(4), object(1)\n",
      "memory usage: 410.3+ MB\n"
     ]
    }
   ],
   "source": [
    "gz_df.info()"
   ]
  },
  {
   "cell_type": "code",
   "execution_count": 266,
   "metadata": {},
   "outputs": [
    {
     "data": {
      "text/html": [
       "<div>\n",
       "<style scoped>\n",
       "    .dataframe tbody tr th:only-of-type {\n",
       "        vertical-align: middle;\n",
       "    }\n",
       "\n",
       "    .dataframe tbody tr th {\n",
       "        vertical-align: top;\n",
       "    }\n",
       "\n",
       "    .dataframe thead th {\n",
       "        text-align: right;\n",
       "    }\n",
       "</style>\n",
       "<table border=\"1\" class=\"dataframe\">\n",
       "  <thead>\n",
       "    <tr style=\"text-align: right;\">\n",
       "      <th></th>\n",
       "      <th>ID</th>\n",
       "      <th>stride</th>\n",
       "      <th>round</th>\n",
       "      <th>n</th>\n",
       "      <th>x</th>\n",
       "      <th>y</th>\n",
       "    </tr>\n",
       "  </thead>\n",
       "  <tbody>\n",
       "    <tr>\n",
       "      <th>count</th>\n",
       "      <td>7.682000e+06</td>\n",
       "      <td>7.682000e+06</td>\n",
       "      <td>7.682000e+06</td>\n",
       "      <td>7.682000e+06</td>\n",
       "      <td>7.682000e+06</td>\n",
       "      <td>7.682000e+06</td>\n",
       "    </tr>\n",
       "    <tr>\n",
       "      <th>mean</th>\n",
       "      <td>1.828802e+02</td>\n",
       "      <td>2.105337e+01</td>\n",
       "      <td>4.688362e+00</td>\n",
       "      <td>2.159472e+04</td>\n",
       "      <td>-4.673639e-01</td>\n",
       "      <td>-3.347876e+00</td>\n",
       "    </tr>\n",
       "    <tr>\n",
       "      <th>std</th>\n",
       "      <td>8.357990e+01</td>\n",
       "      <td>1.948571e+01</td>\n",
       "      <td>2.662475e+00</td>\n",
       "      <td>2.103308e+04</td>\n",
       "      <td>1.234288e+01</td>\n",
       "      <td>7.642721e+00</td>\n",
       "    </tr>\n",
       "    <tr>\n",
       "      <th>min</th>\n",
       "      <td>1.600000e+01</td>\n",
       "      <td>1.000000e+00</td>\n",
       "      <td>1.000000e+00</td>\n",
       "      <td>0.000000e+00</td>\n",
       "      <td>-5.215016e+01</td>\n",
       "      <td>-4.051806e+01</td>\n",
       "    </tr>\n",
       "    <tr>\n",
       "      <th>25%</th>\n",
       "      <td>1.280000e+02</td>\n",
       "      <td>8.000000e+00</td>\n",
       "      <td>2.000000e+00</td>\n",
       "      <td>7.783000e+03</td>\n",
       "      <td>-1.079825e+01</td>\n",
       "      <td>-9.722981e+00</td>\n",
       "    </tr>\n",
       "    <tr>\n",
       "      <th>50%</th>\n",
       "      <td>1.960000e+02</td>\n",
       "      <td>1.600000e+01</td>\n",
       "      <td>5.000000e+00</td>\n",
       "      <td>1.585200e+04</td>\n",
       "      <td>-7.376980e-01</td>\n",
       "      <td>-3.272298e+00</td>\n",
       "    </tr>\n",
       "    <tr>\n",
       "      <th>75%</th>\n",
       "      <td>2.590000e+02</td>\n",
       "      <td>2.700000e+01</td>\n",
       "      <td>7.000000e+00</td>\n",
       "      <td>2.744600e+04</td>\n",
       "      <td>9.999258e+00</td>\n",
       "      <td>3.015376e+00</td>\n",
       "    </tr>\n",
       "    <tr>\n",
       "      <th>max</th>\n",
       "      <td>3.140000e+02</td>\n",
       "      <td>1.410000e+02</td>\n",
       "      <td>9.000000e+00</td>\n",
       "      <td>1.479230e+05</td>\n",
       "      <td>5.097592e+01</td>\n",
       "      <td>3.658586e+01</td>\n",
       "    </tr>\n",
       "  </tbody>\n",
       "</table>\n",
       "</div>"
      ],
      "text/plain": [
       "                 ID        stride         round             n             x  \\\n",
       "count  7.682000e+06  7.682000e+06  7.682000e+06  7.682000e+06  7.682000e+06   \n",
       "mean   1.828802e+02  2.105337e+01  4.688362e+00  2.159472e+04 -4.673639e-01   \n",
       "std    8.357990e+01  1.948571e+01  2.662475e+00  2.103308e+04  1.234288e+01   \n",
       "min    1.600000e+01  1.000000e+00  1.000000e+00  0.000000e+00 -5.215016e+01   \n",
       "25%    1.280000e+02  8.000000e+00  2.000000e+00  7.783000e+03 -1.079825e+01   \n",
       "50%    1.960000e+02  1.600000e+01  5.000000e+00  1.585200e+04 -7.376980e-01   \n",
       "75%    2.590000e+02  2.700000e+01  7.000000e+00  2.744600e+04  9.999258e+00   \n",
       "max    3.140000e+02  1.410000e+02  9.000000e+00  1.479230e+05  5.097592e+01   \n",
       "\n",
       "                  y  \n",
       "count  7.682000e+06  \n",
       "mean  -3.347876e+00  \n",
       "std    7.642721e+00  \n",
       "min   -4.051806e+01  \n",
       "25%   -9.722981e+00  \n",
       "50%   -3.272298e+00  \n",
       "75%    3.015376e+00  \n",
       "max    3.658586e+01  "
      ]
     },
     "execution_count": 266,
     "metadata": {},
     "output_type": "execute_result"
    }
   ],
   "source": [
    "gz_df.describe()  # these criterion are not very helpful."
   ]
  },
  {
   "cell_type": "code",
   "execution_count": 267,
   "metadata": {},
   "outputs": [
    {
     "data": {
      "text/plain": [
       "ID         0\n",
       "stride     0\n",
       "round      0\n",
       "session    0\n",
       "n          0\n",
       "x          0\n",
       "y          0\n",
       "dtype: int64"
      ]
     },
     "execution_count": 267,
     "metadata": {},
     "output_type": "execute_result"
    }
   ],
   "source": [
    "gz_df.isnull().sum()"
   ]
  },
  {
   "cell_type": "markdown",
   "metadata": {},
   "source": [
    "### Subset one participant in one round and one session to visualize the data."
   ]
  },
  {
   "cell_type": "code",
   "execution_count": 273,
   "metadata": {},
   "outputs": [],
   "source": [
    "sub_df = gz_df.loc[(gz_df['ID']==43) & (gz_df['round']==1) & (gz_df['session']=='S1')]"
   ]
  },
  {
   "cell_type": "code",
   "execution_count": 274,
   "metadata": {},
   "outputs": [
    {
     "data": {
      "text/html": [
       "<div>\n",
       "<style scoped>\n",
       "    .dataframe tbody tr th:only-of-type {\n",
       "        vertical-align: middle;\n",
       "    }\n",
       "\n",
       "    .dataframe tbody tr th {\n",
       "        vertical-align: top;\n",
       "    }\n",
       "\n",
       "    .dataframe thead th {\n",
       "        text-align: right;\n",
       "    }\n",
       "</style>\n",
       "<table border=\"1\" class=\"dataframe\">\n",
       "  <thead>\n",
       "    <tr style=\"text-align: right;\">\n",
       "      <th></th>\n",
       "      <th>ID</th>\n",
       "      <th>stride</th>\n",
       "      <th>round</th>\n",
       "      <th>session</th>\n",
       "      <th>n</th>\n",
       "      <th>x</th>\n",
       "      <th>y</th>\n",
       "    </tr>\n",
       "  </thead>\n",
       "  <tbody>\n",
       "    <tr>\n",
       "      <th>352000</th>\n",
       "      <td>43</td>\n",
       "      <td>1</td>\n",
       "      <td>1</td>\n",
       "      <td>S1</td>\n",
       "      <td>0</td>\n",
       "      <td>-3.906012</td>\n",
       "      <td>-4.155497</td>\n",
       "    </tr>\n",
       "    <tr>\n",
       "      <th>352001</th>\n",
       "      <td>43</td>\n",
       "      <td>1</td>\n",
       "      <td>1</td>\n",
       "      <td>S1</td>\n",
       "      <td>1</td>\n",
       "      <td>-3.911863</td>\n",
       "      <td>-4.149635</td>\n",
       "    </tr>\n",
       "    <tr>\n",
       "      <th>352002</th>\n",
       "      <td>43</td>\n",
       "      <td>1</td>\n",
       "      <td>1</td>\n",
       "      <td>S1</td>\n",
       "      <td>2</td>\n",
       "      <td>-3.917714</td>\n",
       "      <td>-4.146704</td>\n",
       "    </tr>\n",
       "    <tr>\n",
       "      <th>352003</th>\n",
       "      <td>43</td>\n",
       "      <td>1</td>\n",
       "      <td>1</td>\n",
       "      <td>S1</td>\n",
       "      <td>3</td>\n",
       "      <td>-3.914788</td>\n",
       "      <td>-4.149635</td>\n",
       "    </tr>\n",
       "    <tr>\n",
       "      <th>352004</th>\n",
       "      <td>43</td>\n",
       "      <td>1</td>\n",
       "      <td>1</td>\n",
       "      <td>S1</td>\n",
       "      <td>4</td>\n",
       "      <td>-3.914788</td>\n",
       "      <td>-4.155497</td>\n",
       "    </tr>\n",
       "    <tr>\n",
       "      <th>...</th>\n",
       "      <td>...</td>\n",
       "      <td>...</td>\n",
       "      <td>...</td>\n",
       "      <td>...</td>\n",
       "      <td>...</td>\n",
       "      <td>...</td>\n",
       "      <td>...</td>\n",
       "    </tr>\n",
       "    <tr>\n",
       "      <th>391995</th>\n",
       "      <td>43</td>\n",
       "      <td>40</td>\n",
       "      <td>1</td>\n",
       "      <td>S1</td>\n",
       "      <td>41192</td>\n",
       "      <td>-22.264926</td>\n",
       "      <td>-11.945529</td>\n",
       "    </tr>\n",
       "    <tr>\n",
       "      <th>391996</th>\n",
       "      <td>43</td>\n",
       "      <td>40</td>\n",
       "      <td>1</td>\n",
       "      <td>S1</td>\n",
       "      <td>41193</td>\n",
       "      <td>-22.257373</td>\n",
       "      <td>-11.939888</td>\n",
       "    </tr>\n",
       "    <tr>\n",
       "      <th>391997</th>\n",
       "      <td>43</td>\n",
       "      <td>40</td>\n",
       "      <td>1</td>\n",
       "      <td>S1</td>\n",
       "      <td>41194</td>\n",
       "      <td>-22.247303</td>\n",
       "      <td>-11.939888</td>\n",
       "    </tr>\n",
       "    <tr>\n",
       "      <th>391998</th>\n",
       "      <td>43</td>\n",
       "      <td>40</td>\n",
       "      <td>1</td>\n",
       "      <td>S1</td>\n",
       "      <td>41195</td>\n",
       "      <td>-22.237230</td>\n",
       "      <td>-11.942709</td>\n",
       "    </tr>\n",
       "    <tr>\n",
       "      <th>391999</th>\n",
       "      <td>43</td>\n",
       "      <td>40</td>\n",
       "      <td>1</td>\n",
       "      <td>S1</td>\n",
       "      <td>41196</td>\n",
       "      <td>-22.232194</td>\n",
       "      <td>-11.945529</td>\n",
       "    </tr>\n",
       "  </tbody>\n",
       "</table>\n",
       "<p>40000 rows × 7 columns</p>\n",
       "</div>"
      ],
      "text/plain": [
       "        ID  stride  round session      n          x          y\n",
       "352000  43       1      1      S1      0  -3.906012  -4.155497\n",
       "352001  43       1      1      S1      1  -3.911863  -4.149635\n",
       "352002  43       1      1      S1      2  -3.917714  -4.146704\n",
       "352003  43       1      1      S1      3  -3.914788  -4.149635\n",
       "352004  43       1      1      S1      4  -3.914788  -4.155497\n",
       "...     ..     ...    ...     ...    ...        ...        ...\n",
       "391995  43      40      1      S1  41192 -22.264926 -11.945529\n",
       "391996  43      40      1      S1  41193 -22.257373 -11.939888\n",
       "391997  43      40      1      S1  41194 -22.247303 -11.939888\n",
       "391998  43      40      1      S1  41195 -22.237230 -11.942709\n",
       "391999  43      40      1      S1  41196 -22.232194 -11.945529\n",
       "\n",
       "[40000 rows x 7 columns]"
      ]
     },
     "execution_count": 274,
     "metadata": {},
     "output_type": "execute_result"
    }
   ],
   "source": [
    "sub_df"
   ]
  },
  {
   "cell_type": "code",
   "execution_count": 275,
   "metadata": {},
   "outputs": [
    {
     "data": {
      "text/plain": [
       "[<matplotlib.lines.Line2D at 0x6e71b3820>]"
      ]
     },
     "execution_count": 275,
     "metadata": {},
     "output_type": "execute_result"
    },
    {
     "data": {
      "image/png": "[encoded data removed]",
      "text/plain": [
       "<Figure size 432x288 with 1 Axes>"
      ]
     },
     "metadata": {
      "needs_background": "light"
     },
     "output_type": "display_data"
    }
   ],
   "source": [
    "plt.plot(sub_df['n'], sub_df['x'])\n",
    "plt.plot(sub_df['n'], sub_df['y'])"
   ]
  },
  {
   "cell_type": "markdown",
   "metadata": {},
   "source": [
    "## Convert to numpy"
   ]
  },
  {
   "cell_type": "code",
   "execution_count": 505,
   "metadata": {},
   "outputs": [],
   "source": [
    "x_np = gz_df['x'].to_numpy()\n",
    "x_np = x_np.reshape(len(gz_df)//stride, stride)"
   ]
  },
  {
   "cell_type": "code",
   "execution_count": 506,
   "metadata": {},
   "outputs": [
    {
     "data": {
      "text/plain": [
       "((7682, 1000),\n",
       " array([[ -8.878117,  -8.880986,  -8.880986, ...,  -1.68074 ,  -1.677803,\n",
       "          -1.660183],\n",
       "        [ -1.630815,  -1.601446,  -1.586762, ...,  12.13068 ,  12.125061,\n",
       "          12.119442],\n",
       "        [ 12.113822,  12.108202,  12.088532, ...,  14.631041,  14.625537,\n",
       "          14.625537],\n",
       "        ...,\n",
       "        [ 19.232984,  19.248704,  19.240845, ..., -28.401845, -29.093182,\n",
       "         -29.777573],\n",
       "        [-30.45492 , -31.181101, -31.898429, ..., -18.321417, -18.324066,\n",
       "         -18.329363],\n",
       "        [-18.332012, -18.329363, -18.329363, ...,  14.289307,  14.286546,\n",
       "          14.286546]]))"
      ]
     },
     "execution_count": 506,
     "metadata": {},
     "output_type": "execute_result"
    }
   ],
   "source": [
    "x_np.shape, x_np"
   ]
  },
  {
   "cell_type": "code",
   "execution_count": 507,
   "metadata": {},
   "outputs": [],
   "source": [
    "scaler = StandardScaler().fit(x_np)\n",
    "x_scaled = scaler.transform(x_np)"
   ]
  },
  {
   "cell_type": "code",
   "execution_count": 508,
   "metadata": {},
   "outputs": [
    {
     "data": {
      "text/plain": [
       "(array([[-0.66750182, -0.66811942, -0.6677723 , ..., -0.10982832,\n",
       "         -0.11008227, -0.10850794],\n",
       "        [-0.07639163, -0.07419069, -0.07247274, ...,  1.01086272,\n",
       "          1.01041404,  1.00968393],\n",
       "        [ 1.04465936,  1.04436267,  1.04360164, ...,  1.21374789,\n",
       "          1.21339903,  1.21304905],\n",
       "        ...,\n",
       "        [ 1.6253181 ,  1.62694747,  1.6273195 , ..., -2.27804152,\n",
       "         -2.33562264, -2.39018373],\n",
       "        [-2.42736615, -2.48755844, -2.54628245, ..., -1.46009192,\n",
       "         -1.46140155, -1.46118201],\n",
       "        [-1.43858791, -1.43900091, -1.43887759, ...,  1.18601879,\n",
       "          1.18588023,  1.18554054]]),\n",
       " (7682, 1000))"
      ]
     },
     "execution_count": 508,
     "metadata": {},
     "output_type": "execute_result"
    }
   ],
   "source": [
    "x_scaled, x_scaled.shape"
   ]
  },
  {
   "cell_type": "code",
   "execution_count": 509,
   "metadata": {},
   "outputs": [],
   "source": [
    "y_np = gz_df['y'].to_numpy()\n",
    "y_np = y_np.reshape(len(gz_df)//stride, stride)"
   ]
  },
  {
   "cell_type": "code",
   "execution_count": 510,
   "metadata": {},
   "outputs": [
    {
     "data": {
      "text/plain": [
       "((7682, 1000),\n",
       " array([[ -6.593976,  -6.58816 ,  -6.582345, ...,  -3.016712,  -2.996142,\n",
       "          -3.004958],\n",
       "        [ -3.013773,  -3.022589,  -3.028466, ...,  -2.775704,  -2.781584,\n",
       "          -2.796282],\n",
       "        [ -2.81098 ,  -2.816859,  -2.834496, ...,  -3.88574 ,  -3.888673,\n",
       "          -3.88574 ],\n",
       "        ...,\n",
       "        [-13.077254, -13.353724, -13.442953, ...,   4.777987,   5.1231  ,\n",
       "           5.470761],\n",
       "        [  5.820934,   6.071625,   6.324994, ..., -10.736018, -10.736018,\n",
       "         -10.736018],\n",
       "        [-10.738862, -10.738862, -10.741707, ..., -15.158251, -15.160996,\n",
       "         -15.139033]]))"
      ]
     },
     "execution_count": 510,
     "metadata": {},
     "output_type": "execute_result"
    }
   ],
   "source": [
    "y_np.shape, y_np"
   ]
  },
  {
   "cell_type": "code",
   "execution_count": 511,
   "metadata": {},
   "outputs": [],
   "source": [
    "scaler = StandardScaler().fit(y_np)\n",
    "y_scaled = scaler.transform(y_np)"
   ]
  },
  {
   "cell_type": "code",
   "execution_count": 512,
   "metadata": {},
   "outputs": [
    {
     "data": {
      "text/plain": [
       "(array([[[-0.66750182, -0.44089731],\n",
       "         [-0.66811942, -0.43984243],\n",
       "         [-0.6677723 , -0.43919974],\n",
       "         ...,\n",
       "         [-0.10982832,  0.04570891],\n",
       "         [-0.11008227,  0.04842624],\n",
       "         [-0.10850794,  0.04730752]],\n",
       " \n",
       "        [[-0.07639163,  0.03129732],\n",
       "         [-0.07419069,  0.03031226],\n",
       "         [-0.07247274,  0.02938645],\n",
       "         ...,\n",
       "         [ 1.01086272,  0.07709291],\n",
       "         [ 1.01041404,  0.07636753],\n",
       "         [ 1.00968393,  0.07448514]],\n",
       " \n",
       "        [[ 1.04465936,  0.05804379],\n",
       "         [ 1.04436267,  0.05743973],\n",
       "         [ 1.04360164,  0.05496178],\n",
       "         ...,\n",
       "         [ 1.21374789, -0.0674557 ],\n",
       "         [ 1.21339903, -0.06780557],\n",
       "         [ 1.21304905, -0.06740407]],\n",
       " \n",
       "        ...,\n",
       " \n",
       "        [[ 1.6253181 , -1.29597984],\n",
       "         [ 1.62694747, -1.33194684],\n",
       "         [ 1.6273195 , -1.34378488],\n",
       "         ...,\n",
       "         [-2.27804152,  1.06073268],\n",
       "         [-2.33562264,  1.1057724 ],\n",
       "         [-2.39018373,  1.15117116]],\n",
       " \n",
       "        [[-2.42736615,  1.19651092],\n",
       "         [-2.48755844,  1.22947148],\n",
       "         [-2.54628245,  1.2626592 ],\n",
       "         ...,\n",
       "         [-1.46009192, -0.95949721],\n",
       "         [-1.46140155, -0.95951615],\n",
       "         [-1.46118201, -0.95957296]],\n",
       " \n",
       "        [[-1.43858791, -0.98756824],\n",
       "         [-1.43900091, -0.98715224],\n",
       "         [-1.43887759, -0.98762009],\n",
       "         ...,\n",
       "         [ 1.18601879, -1.53535929],\n",
       "         [ 1.18588023, -1.53576865],\n",
       "         [ 1.18554054, -1.53301436]]]),\n",
       " (7682, 1000, 2))"
      ]
     },
     "execution_count": 512,
     "metadata": {},
     "output_type": "execute_result"
    }
   ],
   "source": [
    "gz_X = np.stack((x_scaled, y_scaled),axis=2)\n",
    "gz_X, gz_X.shape"
   ]
  },
  {
   "cell_type": "code",
   "execution_count": 515,
   "metadata": {},
   "outputs": [],
   "source": [
    "label = gz_df['ID'].to_numpy().reshape(len(gz_df)//stride, stride)"
   ]
  },
  {
   "cell_type": "code",
   "execution_count": 516,
   "metadata": {},
   "outputs": [
    {
     "data": {
      "text/plain": [
       "(array([[ 16,  16,  16, ...,  16,  16,  16],\n",
       "        [ 16,  16,  16, ...,  16,  16,  16],\n",
       "        [ 16,  16,  16, ...,  16,  16,  16],\n",
       "        ...,\n",
       "        [314, 314, 314, ..., 314, 314, 314],\n",
       "        [314, 314, 314, ..., 314, 314, 314],\n",
       "        [314, 314, 314, ..., 314, 314, 314]]),\n",
       " (7682, 1000))"
      ]
     },
     "execution_count": 516,
     "metadata": {},
     "output_type": "execute_result"
    }
   ],
   "source": [
    "label, label.shape"
   ]
  },
  {
   "cell_type": "code",
   "execution_count": 517,
   "metadata": {},
   "outputs": [
    {
     "data": {
      "text/plain": [
       "[16, 43, 63, 128, 152, 180, 192, 196, 207, 215, 216, 259, 288, 314]"
      ]
     },
     "execution_count": 517,
     "metadata": {},
     "output_type": "execute_result"
    }
   ],
   "source": [
    "uni_label = list(np.unique(label))\n",
    "uni_label"
   ]
  },
  {
   "cell_type": "code",
   "execution_count": 518,
   "metadata": {},
   "outputs": [
    {
     "data": {
      "text/plain": [
       "0"
      ]
     },
     "execution_count": 518,
     "metadata": {},
     "output_type": "execute_result"
    }
   ],
   "source": [
    "uni_label.index(16)"
   ]
  },
  {
   "cell_type": "code",
   "execution_count": 519,
   "metadata": {},
   "outputs": [],
   "source": [
    "t_cls = []\n",
    "for elem in label:\n",
    "    elem = [uni_label.index(elem[0])]*1000\n",
    "    t_cls.append(elem)\n",
    "t_cls = np.asarray(t_cls)"
   ]
  },
  {
   "cell_type": "code",
   "execution_count": 520,
   "metadata": {},
   "outputs": [
    {
     "data": {
      "text/plain": [
       "(array([[ 0,  0,  0, ...,  0,  0,  0],\n",
       "        [ 0,  0,  0, ...,  0,  0,  0],\n",
       "        [ 0,  0,  0, ...,  0,  0,  0],\n",
       "        ...,\n",
       "        [13, 13, 13, ..., 13, 13, 13],\n",
       "        [13, 13, 13, ..., 13, 13, 13],\n",
       "        [13, 13, 13, ..., 13, 13, 13]]),\n",
       " (7682, 1000))"
      ]
     },
     "execution_count": 520,
     "metadata": {},
     "output_type": "execute_result"
    }
   ],
   "source": [
    "t_cls, t_cls.shape"
   ]
  },
  {
   "cell_type": "code",
   "execution_count": 521,
   "metadata": {},
   "outputs": [],
   "source": [
    "data = np.stack((x_scaled, y_scaled, t_cls),axis=2)"
   ]
  },
  {
   "cell_type": "code",
   "execution_count": 522,
   "metadata": {},
   "outputs": [
    {
     "data": {
      "text/plain": [
       "(7682, 1000, 3)"
      ]
     },
     "execution_count": 522,
     "metadata": {},
     "output_type": "execute_result"
    }
   ],
   "source": [
    "data.shape"
   ]
  },
  {
   "cell_type": "markdown",
   "metadata": {},
   "source": [
    "## One-hot encoding the label"
   ]
  },
  {
   "cell_type": "code",
   "execution_count": 523,
   "metadata": {},
   "outputs": [],
   "source": [
    "from sklearn.preprocessing import OneHotEncoder\n",
    "ohe = OneHotEncoder()"
   ]
  },
  {
   "cell_type": "code",
   "execution_count": 524,
   "metadata": {},
   "outputs": [],
   "source": [
    "t_cls_ohe = ohe.fit_transform(gz_df[['ID']]).toarray()"
   ]
  },
  {
   "cell_type": "code",
   "execution_count": 525,
   "metadata": {},
   "outputs": [
    {
     "data": {
      "text/plain": [
       "(array([[1., 0., 0., ..., 0., 0., 0.],\n",
       "        [1., 0., 0., ..., 0., 0., 0.],\n",
       "        [1., 0., 0., ..., 0., 0., 0.],\n",
       "        ...,\n",
       "        [0., 0., 0., ..., 0., 0., 1.],\n",
       "        [0., 0., 0., ..., 0., 0., 1.],\n",
       "        [0., 0., 0., ..., 0., 0., 1.]]),\n",
       " (7682000, 14))"
      ]
     },
     "execution_count": 525,
     "metadata": {},
     "output_type": "execute_result"
    }
   ],
   "source": [
    "t_cls_ohe, t_cls_ohe.shape"
   ]
  },
  {
   "cell_type": "code",
   "execution_count": 526,
   "metadata": {},
   "outputs": [],
   "source": [
    "t_cls_ohe = t_cls_ohe.reshape(7682, 1000, 14)\n",
    "gz_Y = t_cls_ohe[:,0,:]"
   ]
  },
  {
   "cell_type": "code",
   "execution_count": 527,
   "metadata": {},
   "outputs": [
    {
     "data": {
      "text/plain": [
       "(array([[1., 0., 0., ..., 0., 0., 0.],\n",
       "        [1., 0., 0., ..., 0., 0., 0.],\n",
       "        [1., 0., 0., ..., 0., 0., 0.],\n",
       "        ...,\n",
       "        [0., 0., 0., ..., 0., 0., 1.],\n",
       "        [0., 0., 0., ..., 0., 0., 1.],\n",
       "        [0., 0., 0., ..., 0., 0., 1.]]),\n",
       " (7682, 14))"
      ]
     },
     "execution_count": 527,
     "metadata": {},
     "output_type": "execute_result"
    }
   ],
   "source": [
    "gz_Y, gz_Y.shape"
   ]
  },
  {
   "cell_type": "markdown",
   "metadata": {},
   "source": [
    "## Shuffle the data\n",
    "\n",
    "### * later I know that I do not need to do it manually here, Sklearn can do it for me."
   ]
  },
  {
   "cell_type": "code",
   "execution_count": 528,
   "metadata": {},
   "outputs": [],
   "source": [
    "np.random.shuffle(data)"
   ]
  },
  {
   "cell_type": "code",
   "execution_count": 529,
   "metadata": {},
   "outputs": [],
   "source": [
    "Y = data[:,0,-1]"
   ]
  },
  {
   "cell_type": "code",
   "execution_count": 530,
   "metadata": {},
   "outputs": [
    {
     "data": {
      "text/plain": [
       "(7682,)"
      ]
     },
     "execution_count": 530,
     "metadata": {},
     "output_type": "execute_result"
    }
   ],
   "source": [
    "Y.shape"
   ]
  },
  {
   "cell_type": "code",
   "execution_count": 531,
   "metadata": {},
   "outputs": [],
   "source": [
    "X = data[:,:,:2]"
   ]
  },
  {
   "cell_type": "code",
   "execution_count": 532,
   "metadata": {},
   "outputs": [
    {
     "data": {
      "text/plain": [
       "(7682, 1000, 2)"
      ]
     },
     "execution_count": 532,
     "metadata": {},
     "output_type": "execute_result"
    }
   ],
   "source": [
    "X.shape"
   ]
  },
  {
   "cell_type": "code",
   "execution_count": 533,
   "metadata": {},
   "outputs": [
    {
     "data": {
      "text/plain": [
       "(array([[[ 1.20474698, -1.05497759],\n",
       "         [ 1.20518548, -1.05417198],\n",
       "         [ 1.20607646, -1.05388708],\n",
       "         ...,\n",
       "         [ 0.13885942, -1.53678911],\n",
       "         [ 0.09912489, -1.54434554],\n",
       "         [ 0.06008087, -1.55481001]],\n",
       " \n",
       "        [[-1.03857673, -0.25632993],\n",
       "         [-1.03907844, -0.25724118],\n",
       "         [-1.03951983, -0.25814632],\n",
       "         ...,\n",
       "         [ 1.50222386,  0.10197947],\n",
       "         [ 1.50201974,  0.10355311],\n",
       "         [ 1.50177721,  0.10550231]],\n",
       " \n",
       "        [[-0.30893669,  1.08442077],\n",
       "         [-0.30944433,  1.08435157],\n",
       "         [-0.30923147,  1.08414037],\n",
       "         ...,\n",
       "         [-1.54765198, -1.29456122],\n",
       "         [-1.54708728, -1.2956896 ],\n",
       "         [-1.54534455, -1.29686527]],\n",
       " \n",
       "        ...,\n",
       " \n",
       "        [[-0.42401119,  1.13299313],\n",
       "         [-0.4240799 ,  1.13368288],\n",
       "         [-0.42318727,  1.13423914],\n",
       "         ...,\n",
       "         [ 0.46242784, -0.29303603],\n",
       "         [ 0.46479215, -0.30669631],\n",
       "         [ 0.46684933, -0.32075269]],\n",
       " \n",
       "        [[-0.61898297, -0.14904416],\n",
       "         [-0.61982075, -0.15114221],\n",
       "         [-0.61969449, -0.15128275],\n",
       "         ...,\n",
       "         [-0.90886867,  0.1831974 ],\n",
       "         [-0.90971741,  0.18324382],\n",
       "         [-0.90950315,  0.18328482]],\n",
       " \n",
       "        [[-0.04332966,  1.03579408],\n",
       "         [-0.04351437,  1.03612235],\n",
       "         [-0.04298591,  1.03591391],\n",
       "         ...,\n",
       "         [-0.36081767,  0.70329834],\n",
       "         [-0.36118502,  0.70452416],\n",
       "         [-0.3609467 ,  0.70499307]]]),\n",
       " array([ 6., 11., 11., ...,  2., 10.,  0.]))"
      ]
     },
     "execution_count": 533,
     "metadata": {},
     "output_type": "execute_result"
    }
   ],
   "source": [
    "X, Y "
   ]
  },
  {
   "cell_type": "markdown",
   "metadata": {},
   "source": [
    "# Task 4"
   ]
  },
  {
   "cell_type": "markdown",
   "metadata": {},
   "source": [
    "Split the data into train and test split. We've already done something similar in assignment 5.\n",
    "<br>\n",
    "* Read in the unzipped files and store the data in a feature matrix and a label vector\n",
    "* Do some data exploration on  both the features and the labels\n",
    "* Preprocess the labels by one-hot-encoding\n",
    "* You will need to reshape your feature matrix to work as an input for the CNN\n",
    "* Pad the feature matrix\n",
    "* Split the data into train and test sets\n",
    "\n"
   ]
  },
  {
   "cell_type": "code",
   "execution_count": 857,
   "metadata": {},
   "outputs": [],
   "source": [
    "X_train, X_test, y_train, y_test = train_test_split(gz_X, gz_Y, test_size=0.10, random_state=42, shuffle=True) "
   ]
  },
  {
   "cell_type": "code",
   "execution_count": 858,
   "metadata": {},
   "outputs": [
    {
     "data": {
      "text/plain": [
       "((6913, 1000, 2), (769, 1000, 2), (6913, 14), (769, 14))"
      ]
     },
     "execution_count": 858,
     "metadata": {},
     "output_type": "execute_result"
    }
   ],
   "source": [
    "X_train.shape, X_test.shape, y_train.shape, y_test.shape"
   ]
  },
  {
   "cell_type": "markdown",
   "metadata": {},
   "source": [
    "# Task 5"
   ]
  },
  {
   "cell_type": "markdown",
   "metadata": {},
   "source": [
    "Preprocess your data. This is not always necessary, however, note that using a full sequence as input can be very computationally intensive. This can be counteracted by downsampling or splitting. Splitting in this case means to only use a subsequence of the data, e.g., a few seconds, as input."
   ]
  },
  {
   "cell_type": "code",
   "execution_count": 859,
   "metadata": {},
   "outputs": [],
   "source": [
    "# I think I have done this step in the beginning."
   ]
  },
  {
   "cell_type": "markdown",
   "metadata": {},
   "source": [
    "# Task 6"
   ]
  },
  {
   "cell_type": "markdown",
   "metadata": {},
   "source": [
    "Define your convolutional neural network."
   ]
  },
  {
   "cell_type": "markdown",
   "metadata": {},
   "source": [
    "Commonly used layers are:"
   ]
  },
  {
   "cell_type": "code",
   "execution_count": 860,
   "metadata": {},
   "outputs": [],
   "source": [
    "# tf.keras.layers.Dropout(dropout_rate)\n",
    "# tf.keras.layers.Conv1D(filters,kernel_size,strides=stride, activation=activation)\n",
    "# tf.keras.layers.BatchNormalization()\n",
    "# tf.keras.layers.Dense(units, activation=activation)\n",
    "# tf.keras.layers.Softmax()\n",
    "# tf.keras.layers.MaxPool1D(pool_size=pool_size, strides=stride)\n",
    "# tf.keras.layers.AveragePooling1D(pool_size=pool_size, strides=stride)\n",
    "# tf.keras.layers.GlobalAveragePooling1D()"
   ]
  },
  {
   "cell_type": "code",
   "execution_count": 890,
   "metadata": {},
   "outputs": [],
   "source": [
    "from tensorflow.keras import layers\n",
    "\n",
    "model = tf.keras.Sequential()\n",
    "model.add(layers.Conv1D(64, 7, activation='relu', input_shape=(1000,2)))\n",
    "# model.add(layers.AveragePooling1D(pool_size=3, strides=2))\n",
    "\n",
    "model.add(layers.Conv1D(32, 3, activation='relu'))\n",
    "# model.add(layers.AveragePooling1D(pool_size=3, strides=2))\n",
    "\n",
    "model.add(layers.Conv1D(16, 2, activation='relu'))\n",
    "# model.add(layers.Conv1D(8, 2, activation='relu'))\n",
    "model.add(layers.MaxPooling1D(pool_size=2))\n",
    "model.add(layers.Dropout(0.5))\n",
    "model.add(layers.Flatten())\n",
    "model.add(layers.Dense(14, activation='softmax'))\n"
   ]
  },
  {
   "cell_type": "markdown",
   "metadata": {},
   "source": [
    "The simplest way to define a model is as a sequential model. In the list you stack the layers you want to use. Feel free to use other possibilities to define your model."
   ]
  },
  {
   "cell_type": "markdown",
   "metadata": {},
   "source": [
    "# Task 7"
   ]
  },
  {
   "cell_type": "markdown",
   "metadata": {},
   "source": [
    "Compile your model. For that read the documentation on `model.compile(*args, **kwargs)`. You'll need at least an optimizer and a loss function."
   ]
  },
  {
   "cell_type": "code",
   "execution_count": 891,
   "metadata": {},
   "outputs": [],
   "source": [
    "model.compile(loss='categorical_crossentropy', optimizer='adam', metrics=['accuracy'])"
   ]
  },
  {
   "cell_type": "markdown",
   "metadata": {},
   "source": [
    "# Task 8"
   ]
  },
  {
   "cell_type": "markdown",
   "metadata": {},
   "source": [
    "Fit and test your model using `model.fit()` and `model.predict()`. If needed consult the documentation. Typically you provide the dataset, batch size, and number of epochs. You test your model on the test set defined above. "
   ]
  },
  {
   "cell_type": "code",
   "execution_count": 892,
   "metadata": {},
   "outputs": [
    {
     "name": "stdout",
     "output_type": "stream",
     "text": [
      "Epoch 1/10\n"
     ]
    },
    {
     "name": "stderr",
     "output_type": "stream",
     "text": [
      "2022-05-19 13:10:12.337714: I tensorflow/core/grappler/optimizers/custom_graph_optimizer_registry.cc:113] Plugin optimizer for device_type GPU is enabled.\n"
     ]
    },
    {
     "name": "stdout",
     "output_type": "stream",
     "text": [
      "217/217 [==============================] - 4s 17ms/step - loss: 2.5828 - accuracy: 0.1611\n",
      "Epoch 2/10\n",
      "217/217 [==============================] - 3s 16ms/step - loss: 2.5007 - accuracy: 0.1724\n",
      "Epoch 3/10\n",
      "217/217 [==============================] - 4s 16ms/step - loss: 2.4519 - accuracy: 0.1775\n",
      "Epoch 4/10\n",
      "217/217 [==============================] - 4s 16ms/step - loss: 2.4286 - accuracy: 0.1856\n",
      "Epoch 5/10\n",
      "217/217 [==============================] - 3s 16ms/step - loss: 2.4026 - accuracy: 0.1922\n",
      "Epoch 6/10\n",
      "217/217 [==============================] - 4s 16ms/step - loss: 2.3737 - accuracy: 0.1988\n",
      "Epoch 7/10\n",
      "217/217 [==============================] - 3s 16ms/step - loss: 2.3849 - accuracy: 0.1938\n",
      "Epoch 8/10\n",
      "217/217 [==============================] - 4s 16ms/step - loss: 2.3459 - accuracy: 0.2040\n",
      "Epoch 9/10\n",
      "217/217 [==============================] - 4s 16ms/step - loss: 2.3139 - accuracy: 0.2161\n",
      "Epoch 10/10\n",
      "217/217 [==============================] - 4s 16ms/step - loss: 2.2860 - accuracy: 0.2277\n"
     ]
    },
    {
     "data": {
      "text/plain": [
       "<keras.callbacks.History at 0x8b6439ac0>"
      ]
     },
     "execution_count": 892,
     "metadata": {},
     "output_type": "execute_result"
    }
   ],
   "source": [
    "verbose, epochs, batch_size = 0, 10, 32\n",
    "\n",
    "model.fit(X_train, y_train, epochs=epochs, batch_size=batch_size)"
   ]
  },
  {
   "cell_type": "code",
   "execution_count": 894,
   "metadata": {},
   "outputs": [
    {
     "data": {
      "text/plain": [
       "array([[3.06580625e-02, 1.23126104e-01, 5.43821640e-02, ...,\n",
       "        1.06600747e-01, 5.71704619e-02, 8.42632279e-02],\n",
       "       [6.34704307e-02, 8.17967728e-02, 6.70257360e-02, ...,\n",
       "        6.38672858e-02, 7.13558197e-02, 7.15264305e-02],\n",
       "       [1.95981411e-05, 3.49946167e-05, 6.10251982e-06, ...,\n",
       "        9.68396425e-01, 5.06219803e-05, 5.40290785e-04],\n",
       "       ...,\n",
       "       [6.07868917e-02, 8.73531103e-02, 9.97518152e-02, ...,\n",
       "        4.59879935e-02, 2.70895232e-02, 3.33388299e-02],\n",
       "       [4.98531014e-02, 1.06718570e-01, 6.53013960e-02, ...,\n",
       "        1.22177608e-01, 3.19620706e-02, 7.74701908e-02],\n",
       "       [4.61619608e-02, 9.85848010e-02, 5.83546944e-02, ...,\n",
       "        5.84625192e-02, 7.18224347e-02, 5.11018261e-02]], dtype=float32)"
      ]
     },
     "execution_count": 894,
     "metadata": {},
     "output_type": "execute_result"
    }
   ],
   "source": [
    "model.predict(X_test, batch_size=batch_size, verbose=verbose)"
   ]
  },
  {
   "cell_type": "code",
   "execution_count": 895,
   "metadata": {},
   "outputs": [],
   "source": [
    "result = model.predict(X_test, batch_size=batch_size, verbose=verbose)\n",
    "pred_y = np.argmax(result, axis=1)"
   ]
  },
  {
   "cell_type": "code",
   "execution_count": 896,
   "metadata": {},
   "outputs": [],
   "source": [
    "true_y = np.argmax(y_test, axis=1)"
   ]
  },
  {
   "cell_type": "code",
   "execution_count": 897,
   "metadata": {},
   "outputs": [
    {
     "data": {
      "text/plain": [
       "0.17425227568270482"
      ]
     },
     "execution_count": 897,
     "metadata": {},
     "output_type": "execute_result"
    }
   ],
   "source": [
    "# primitive way of computer accuracy.\n",
    "\n",
    "correct_pred = (true_y == pred_y).astype(int)\n",
    "acc = np.mean(correct_pred)\n",
    "acc"
   ]
  },
  {
   "cell_type": "code",
   "execution_count": 898,
   "metadata": {},
   "outputs": [
    {
     "name": "stderr",
     "output_type": "stream",
     "text": [
      "2022-05-19 13:10:54.981631: I tensorflow/core/grappler/optimizers/custom_graph_optimizer_registry.cc:113] Plugin optimizer for device_type GPU is enabled.\n"
     ]
    },
    {
     "data": {
      "text/plain": [
       "[2.586879014968872, 0.17425227165222168]"
      ]
     },
     "execution_count": 898,
     "metadata": {},
     "output_type": "execute_result"
    }
   ],
   "source": [
    "model.evaluate(X_test, y_test, batch_size=batch_size, verbose=0)"
   ]
  },
  {
   "cell_type": "markdown",
   "metadata": {},
   "source": [
    "## Comments:"
   ]
  },
  {
   "cell_type": "markdown",
   "metadata": {},
   "source": [
    "From my point of view, the results is not exciting, but good enough.\n",
    "\n",
    "The accuracy is twice higher than random guessing.\n",
    "\n",
    "in fact, the data I used is not quite big. And the model need to predict one ID out of 14. It is not easy.\n",
    "\n",
    "I think, if we tune the time parameters(e.g we extract every 5000 lines out as a datapoints, this means we care about the eye gaze pattern in every 5s), the result could be better.\n",
    "\n",
    "And there are also other parameters we could tune to make the model better."
   ]
  },
  {
   "cell_type": "code",
   "execution_count": null,
   "metadata": {},
   "outputs": [],
   "source": []
  },
  {
   "cell_type": "code",
   "execution_count": null,
   "metadata": {},
   "outputs": [],
   "source": []
  },
  {
   "cell_type": "code",
   "execution_count": null,
   "metadata": {},
   "outputs": [],
   "source": []
  },
  {
   "cell_type": "code",
   "execution_count": 27,
   "metadata": {},
   "outputs": [],
   "source": [
    "import numpy as np\n",
    "import matplotlib.pyplot as plt\n",
    "from itertools import cycle\n",
    "import sklearn.model_selection as model_selection\n",
    "from sklearn import svm, datasets\n",
    "from sklearn.metrics import roc_curve, auc\n",
    "from sklearn.model_selection import train_test_split\n",
    "from sklearn.preprocessing import label_binarize\n",
    "from sklearn.multiclass import OneVsRestClassifier\n",
    "from sklearn.metrics import roc_auc_score\n",
    "from sklearn.metrics import accuracy_score\n",
    "from sklearn.metrics import f1_score"
   ]
  },
  {
   "cell_type": "code",
   "execution_count": 28,
   "metadata": {},
   "outputs": [],
   "source": [
    "iris = datasets.load_iris()\n",
    "X = iris.data\n",
    "y = iris.target\n",
    "X_train, X_test, y_train, y_test = model_selection.train_test_split(X, y, train_size=0.80, test_size=0.20, random_state=101)"
   ]
  },
  {
   "cell_type": "code",
   "execution_count": 29,
   "metadata": {},
   "outputs": [
    {
     "data": {
      "text/plain": [
       "((120, 4), (30, 4), (120,), (30,))"
      ]
     },
     "execution_count": 29,
     "metadata": {},
     "output_type": "execute_result"
    }
   ],
   "source": [
    "X_train.shape, X_test.shape, y_train.shape, y_test.shape"
   ]
  },
  {
   "cell_type": "code",
   "execution_count": 30,
   "metadata": {},
   "outputs": [
    {
     "data": {
      "text/plain": [
       "array([2, 1, 2, 1, 2, 1, 1, 1, 1, 2, 0, 0, 0, 1, 1, 0, 2, 1, 0, 1, 1, 0,\n",
       "       2, 0, 1, 2, 1, 0, 0, 1, 0, 1, 2, 2, 1, 0, 1, 0, 2, 2, 1, 2, 1, 2,\n",
       "       0, 0, 0, 1, 0, 0, 0, 2, 0, 0, 2, 2, 0, 0, 2, 2, 2, 0, 1, 2, 0, 0,\n",
       "       2, 2, 0, 1, 0, 2, 2, 0, 2, 1, 1, 2, 0, 2, 0, 1, 2, 0, 1, 0, 2, 1,\n",
       "       2, 0, 2, 2, 2, 1, 0, 0, 2, 1, 0, 1, 2, 2, 2, 1, 0, 2, 0, 2, 1, 2,\n",
       "       2, 0, 2, 1, 1, 1, 1, 1, 0, 1])"
      ]
     },
     "execution_count": 30,
     "metadata": {},
     "output_type": "execute_result"
    }
   ],
   "source": [
    "y_train"
   ]
  },
  {
   "cell_type": "code",
   "execution_count": 31,
   "metadata": {},
   "outputs": [],
   "source": [
    "rbf = svm.SVC(kernel='rbf', gamma=0.5, C=0.1).fit(X_train, y_train)\n",
    "poly = svm.SVC(kernel='poly', degree=3, C=1).fit(X_train, y_train)"
   ]
  },
  {
   "cell_type": "code",
   "execution_count": 32,
   "metadata": {},
   "outputs": [],
   "source": [
    "poly_pred = poly.predict(X_test)\n",
    "rbf_pred = rbf.predict(X_test)"
   ]
  },
  {
   "cell_type": "code",
   "execution_count": 33,
   "metadata": {},
   "outputs": [
    {
     "name": "stdout",
     "output_type": "stream",
     "text": [
      "Accuracy (Polynomial Kernel):  100.00\n",
      "F1 (Polynomial Kernel):  100.00\n"
     ]
    }
   ],
   "source": [
    "poly_accuracy = accuracy_score(y_test, poly_pred)\n",
    "poly_f1 = f1_score(y_test, poly_pred, average='weighted')\n",
    "print('Accuracy (Polynomial Kernel): ', \"%.2f\" % (poly_accuracy*100))\n",
    "print('F1 (Polynomial Kernel): ', \"%.2f\" % (poly_f1*100))"
   ]
  },
  {
   "cell_type": "code",
   "execution_count": 34,
   "metadata": {},
   "outputs": [
    {
     "name": "stdout",
     "output_type": "stream",
     "text": [
      "Accuracy (RBF Kernel):  100.00\n",
      "F1 (RBF Kernel):  100.00\n"
     ]
    }
   ],
   "source": [
    "rbf_accuracy = accuracy_score(y_test, rbf_pred)\n",
    "rbf_f1 = f1_score(y_test, rbf_pred, average='weighted')\n",
    "print('Accuracy (RBF Kernel): ', \"%.2f\" % (rbf_accuracy*100))\n",
    "print('F1 (RBF Kernel): ', \"%.2f\" % (rbf_f1*100))"
   ]
  },
  {
   "cell_type": "code",
   "execution_count": null,
   "metadata": {},
   "outputs": [],
   "source": []
  },
  {
   "cell_type": "code",
   "execution_count": 46,
   "metadata": {},
   "outputs": [
    {
     "name": "stdout",
     "output_type": "stream",
     "text": [
      "[[0 0 1]\n",
      " [0 1 0]\n",
      " [1 0 0]\n",
      " [0 0 1]\n",
      " [1 0 0]\n",
      " [0 0 1]\n",
      " [1 0 0]\n",
      " [0 1 0]\n",
      " [0 1 0]\n",
      " [0 1 0]\n",
      " [0 0 1]\n",
      " [0 1 0]\n",
      " [0 1 0]\n",
      " [0 1 0]\n",
      " [0 1 0]\n",
      " [1 0 0]\n",
      " [0 1 0]\n",
      " [0 1 0]\n",
      " [1 0 0]\n",
      " [1 0 0]\n",
      " [0 0 1]\n",
      " [0 1 0]\n",
      " [1 0 0]\n",
      " [1 0 0]\n",
      " [0 0 1]\n",
      " [1 0 0]\n",
      " [1 0 0]\n",
      " [0 1 0]\n",
      " [0 1 0]\n",
      " [1 0 0]\n",
      " [0 0 1]\n",
      " [0 1 0]\n",
      " [1 0 0]\n",
      " [0 0 1]\n",
      " [0 0 1]\n",
      " [0 1 0]\n",
      " [1 0 0]\n",
      " [0 1 0]\n",
      " [0 1 0]\n",
      " [0 1 0]\n",
      " [0 0 1]\n",
      " [1 0 0]\n",
      " [0 0 1]\n",
      " [1 0 0]\n",
      " [1 0 0]\n",
      " [0 1 0]\n",
      " [0 0 1]\n",
      " [0 0 1]\n",
      " [0 0 1]\n",
      " [0 0 1]\n",
      " [0 1 0]\n",
      " [0 0 1]\n",
      " [0 1 0]\n",
      " [0 1 0]\n",
      " [0 0 1]\n",
      " [0 0 1]\n",
      " [0 0 1]\n",
      " [0 0 1]\n",
      " [0 1 0]\n",
      " [0 0 1]\n",
      " [0 1 0]\n",
      " [1 0 0]\n",
      " [0 0 1]\n",
      " [0 1 0]\n",
      " [0 1 0]\n",
      " [0 1 0]\n",
      " [0 1 0]\n",
      " [0 0 1]\n",
      " [1 0 0]\n",
      " [1 0 0]\n",
      " [0 0 1]\n",
      " [0 1 0]\n",
      " [1 0 0]\n",
      " [1 0 0]\n",
      " [0 1 0]]\n",
      "[0 0 1 0 1 0 1 0 0 0 0 1 1 0 0 0 0 1 1 0 0 0 1 0 0 1 0 0 1 0 0 0 1 0 1 0 0\n",
      " 1 0 0 1 0 0 1 0 1 0 0 0 1 0 0 1 0 1 0 0 1 0 0 0 0 1 0 1 0 1 0 0 1 0 0 0 0\n",
      " 1 1 0 0 1 0 0 0 1 0 0 1 0 1 0 0 0 0 1 0 1 0 1 0 0 0 0 1 0 0 1 0 1 0 1 0 0\n",
      " 0 1 0 0 1 0 0 1 0 0 0 1 1 0 0 0 0 1 1 0 0 1 0 0 0 1 0 0 0 1 0 0 1 0 0 1 0\n",
      " 0 1 0 1 0 0 0 1 0 1 0 0 1 0 0 0 1 0 0 1 0 0 1 0 0 1 0 1 0 0 0 1 0 1 0 1 0\n",
      " 0 0 0 1 0 1 0 0 1 0 0 1 0 0 1 0 0 0 1 1 0 0 1 0 0 0 0 1 0 1 0 1 0 0 1 0 0\n",
      " 0 1 0]\n"
     ]
    }
   ],
   "source": [
    "iris = datasets.load_iris()\n",
    "X = iris.data\n",
    "y = iris.target\n",
    "# print(y)\n",
    "\n",
    "# Binarize the output\n",
    "y = label_binarize(y, classes=[0, 1, 2])\n",
    "# print(y)\n",
    "n_classes = y.shape[1]\n",
    "# print(n_classes)\n",
    "\n",
    "# Add noisy features to make the problem harder\n",
    "random_state = np.random.RandomState(0)\n",
    "n_samples, n_features = X.shape\n",
    "X = np.c_[X, random_state.randn(n_samples, 200 * n_features)]\n",
    "\n",
    "# shuffle and split training and test sets\n",
    "X_train, X_test, y_train, y_test = train_test_split(X, y, test_size=.5,\n",
    "                                                    random_state=0)\n",
    "print(y_test)\n",
    "\n",
    "# Learn to predict each class against the other\n",
    "classifier = OneVsRestClassifier(svm.SVC(kernel='linear', probability=True,\n",
    "                                 random_state=random_state))\n",
    "y_score = classifier.fit(X_train, y_train).decision_function(X_test)\n",
    "# print(y_score)\n",
    "\n",
    "# Compute ROC curve and ROC area for each class\n",
    "fpr = dict()\n",
    "tpr = dict()\n",
    "roc_auc = dict()\n",
    "for i in range(n_classes):\n",
    "    # print(y_test[:, i], y_score[:, i])\n",
    "    fpr[i], tpr[i], _ = roc_curve(y_test[:, i], y_score[:, i])\n",
    "    roc_auc[i] = auc(fpr[i], tpr[i])\n",
    "\n",
    "# Compute micro-average ROC curve and ROC area\n",
    "print(y_test.ravel())\n",
    "fpr[\"micro\"], tpr[\"micro\"], _ = roc_curve(y_test.ravel(), y_score.ravel())\n",
    "roc_auc[\"micro\"] = auc(fpr[\"micro\"], tpr[\"micro\"])"
   ]
  },
  {
   "cell_type": "code",
   "execution_count": null,
   "metadata": {},
   "outputs": [],
   "source": []
  },
  {
   "cell_type": "code",
   "execution_count": null,
   "metadata": {},
   "outputs": [],
   "source": []
  }
 ],
 "metadata": {
  "kernelspec": {
   "display_name": "env_tf",
   "language": "python",
   "name": "env_tf"
  },
  "language_info": {
   "codemirror_mode": {
    "name": "ipython",
    "version": 3
   },
   "file_extension": ".py",
   "mimetype": "text/x-python",
   "name": "python",
   "nbconvert_exporter": "python",
   "pygments_lexer": "ipython3",
   "version": "3.8.13"
  }
 },
 "nbformat": 4,
 "nbformat_minor": 4
}
